{
 "cells": [
  {
   "cell_type": "code",
   "execution_count": 1,
   "metadata": {},
   "outputs": [],
   "source": [
    "import numpy as np\n",
    "import pandas as pd\n",
    "import matplotlib.pyplot as plt\n",
    "import seaborn as sns\n",
    "import statsmodels.api as sm\n",
    "import ISLP\n",
    "from ISLP import load_data\n",
    "%matplotlib inline"
   ]
  },
  {
   "cell_type": "code",
   "execution_count": null,
   "metadata": {},
   "outputs": [],
   "source": []
  },
  {
   "cell_type": "code",
   "execution_count": null,
   "metadata": {},
   "outputs": [],
   "source": []
  },
  {
   "cell_type": "code",
   "execution_count": 2,
   "metadata": {},
   "outputs": [],
   "source": [
    "college=load_data('College')"
   ]
  },
  {
   "cell_type": "code",
   "execution_count": 3,
   "metadata": {},
   "outputs": [
    {
     "data": {
      "text/html": [
       "<div>\n",
       "<style scoped>\n",
       "    .dataframe tbody tr th:only-of-type {\n",
       "        vertical-align: middle;\n",
       "    }\n",
       "\n",
       "    .dataframe tbody tr th {\n",
       "        vertical-align: top;\n",
       "    }\n",
       "\n",
       "    .dataframe thead th {\n",
       "        text-align: right;\n",
       "    }\n",
       "</style>\n",
       "<table border=\"1\" class=\"dataframe\">\n",
       "  <thead>\n",
       "    <tr style=\"text-align: right;\">\n",
       "      <th></th>\n",
       "      <th>Private</th>\n",
       "      <th>Apps</th>\n",
       "      <th>Accept</th>\n",
       "      <th>Enroll</th>\n",
       "      <th>Top10perc</th>\n",
       "      <th>Top25perc</th>\n",
       "      <th>F.Undergrad</th>\n",
       "      <th>P.Undergrad</th>\n",
       "      <th>Outstate</th>\n",
       "      <th>Room.Board</th>\n",
       "      <th>Books</th>\n",
       "      <th>Personal</th>\n",
       "      <th>PhD</th>\n",
       "      <th>Terminal</th>\n",
       "      <th>S.F.Ratio</th>\n",
       "      <th>perc.alumni</th>\n",
       "      <th>Expend</th>\n",
       "      <th>Grad.Rate</th>\n",
       "    </tr>\n",
       "  </thead>\n",
       "  <tbody>\n",
       "    <tr>\n",
       "      <th>0</th>\n",
       "      <td>Yes</td>\n",
       "      <td>1660</td>\n",
       "      <td>1232</td>\n",
       "      <td>721</td>\n",
       "      <td>23</td>\n",
       "      <td>52</td>\n",
       "      <td>2885</td>\n",
       "      <td>537</td>\n",
       "      <td>7440</td>\n",
       "      <td>3300</td>\n",
       "      <td>450</td>\n",
       "      <td>2200</td>\n",
       "      <td>70</td>\n",
       "      <td>78</td>\n",
       "      <td>18.1</td>\n",
       "      <td>12</td>\n",
       "      <td>7041</td>\n",
       "      <td>60</td>\n",
       "    </tr>\n",
       "    <tr>\n",
       "      <th>1</th>\n",
       "      <td>Yes</td>\n",
       "      <td>2186</td>\n",
       "      <td>1924</td>\n",
       "      <td>512</td>\n",
       "      <td>16</td>\n",
       "      <td>29</td>\n",
       "      <td>2683</td>\n",
       "      <td>1227</td>\n",
       "      <td>12280</td>\n",
       "      <td>6450</td>\n",
       "      <td>750</td>\n",
       "      <td>1500</td>\n",
       "      <td>29</td>\n",
       "      <td>30</td>\n",
       "      <td>12.2</td>\n",
       "      <td>16</td>\n",
       "      <td>10527</td>\n",
       "      <td>56</td>\n",
       "    </tr>\n",
       "    <tr>\n",
       "      <th>2</th>\n",
       "      <td>Yes</td>\n",
       "      <td>1428</td>\n",
       "      <td>1097</td>\n",
       "      <td>336</td>\n",
       "      <td>22</td>\n",
       "      <td>50</td>\n",
       "      <td>1036</td>\n",
       "      <td>99</td>\n",
       "      <td>11250</td>\n",
       "      <td>3750</td>\n",
       "      <td>400</td>\n",
       "      <td>1165</td>\n",
       "      <td>53</td>\n",
       "      <td>66</td>\n",
       "      <td>12.9</td>\n",
       "      <td>30</td>\n",
       "      <td>8735</td>\n",
       "      <td>54</td>\n",
       "    </tr>\n",
       "    <tr>\n",
       "      <th>3</th>\n",
       "      <td>Yes</td>\n",
       "      <td>417</td>\n",
       "      <td>349</td>\n",
       "      <td>137</td>\n",
       "      <td>60</td>\n",
       "      <td>89</td>\n",
       "      <td>510</td>\n",
       "      <td>63</td>\n",
       "      <td>12960</td>\n",
       "      <td>5450</td>\n",
       "      <td>450</td>\n",
       "      <td>875</td>\n",
       "      <td>92</td>\n",
       "      <td>97</td>\n",
       "      <td>7.7</td>\n",
       "      <td>37</td>\n",
       "      <td>19016</td>\n",
       "      <td>59</td>\n",
       "    </tr>\n",
       "    <tr>\n",
       "      <th>4</th>\n",
       "      <td>Yes</td>\n",
       "      <td>193</td>\n",
       "      <td>146</td>\n",
       "      <td>55</td>\n",
       "      <td>16</td>\n",
       "      <td>44</td>\n",
       "      <td>249</td>\n",
       "      <td>869</td>\n",
       "      <td>7560</td>\n",
       "      <td>4120</td>\n",
       "      <td>800</td>\n",
       "      <td>1500</td>\n",
       "      <td>76</td>\n",
       "      <td>72</td>\n",
       "      <td>11.9</td>\n",
       "      <td>2</td>\n",
       "      <td>10922</td>\n",
       "      <td>15</td>\n",
       "    </tr>\n",
       "  </tbody>\n",
       "</table>\n",
       "</div>"
      ],
      "text/plain": [
       "  Private  Apps  Accept  Enroll  Top10perc  Top25perc  F.Undergrad  \\\n",
       "0     Yes  1660    1232     721         23         52         2885   \n",
       "1     Yes  2186    1924     512         16         29         2683   \n",
       "2     Yes  1428    1097     336         22         50         1036   \n",
       "3     Yes   417     349     137         60         89          510   \n",
       "4     Yes   193     146      55         16         44          249   \n",
       "\n",
       "   P.Undergrad  Outstate  Room.Board  Books  Personal  PhD  Terminal  \\\n",
       "0          537      7440        3300    450      2200   70        78   \n",
       "1         1227     12280        6450    750      1500   29        30   \n",
       "2           99     11250        3750    400      1165   53        66   \n",
       "3           63     12960        5450    450       875   92        97   \n",
       "4          869      7560        4120    800      1500   76        72   \n",
       "\n",
       "   S.F.Ratio  perc.alumni  Expend  Grad.Rate  \n",
       "0       18.1           12    7041         60  \n",
       "1       12.2           16   10527         56  \n",
       "2       12.9           30    8735         54  \n",
       "3        7.7           37   19016         59  \n",
       "4       11.9            2   10922         15  "
      ]
     },
     "execution_count": 3,
     "metadata": {},
     "output_type": "execute_result"
    }
   ],
   "source": [
    "college.head()"
   ]
  },
  {
   "cell_type": "code",
   "execution_count": 4,
   "metadata": {},
   "outputs": [
    {
     "name": "stdout",
     "output_type": "stream",
     "text": [
      "<class 'pandas.core.frame.DataFrame'>\n",
      "RangeIndex: 777 entries, 0 to 776\n",
      "Data columns (total 18 columns):\n",
      " #   Column       Non-Null Count  Dtype   \n",
      "---  ------       --------------  -----   \n",
      " 0   Private      777 non-null    category\n",
      " 1   Apps         777 non-null    int64   \n",
      " 2   Accept       777 non-null    int64   \n",
      " 3   Enroll       777 non-null    int64   \n",
      " 4   Top10perc    777 non-null    int64   \n",
      " 5   Top25perc    777 non-null    int64   \n",
      " 6   F.Undergrad  777 non-null    int64   \n",
      " 7   P.Undergrad  777 non-null    int64   \n",
      " 8   Outstate     777 non-null    int64   \n",
      " 9   Room.Board   777 non-null    int64   \n",
      " 10  Books        777 non-null    int64   \n",
      " 11  Personal     777 non-null    int64   \n",
      " 12  PhD          777 non-null    int64   \n",
      " 13  Terminal     777 non-null    int64   \n",
      " 14  S.F.Ratio    777 non-null    float64 \n",
      " 15  perc.alumni  777 non-null    int64   \n",
      " 16  Expend       777 non-null    int64   \n",
      " 17  Grad.Rate    777 non-null    int64   \n",
      "dtypes: category(1), float64(1), int64(16)\n",
      "memory usage: 104.2 KB\n"
     ]
    }
   ],
   "source": [
    "college.info()"
   ]
  },
  {
   "cell_type": "code",
   "execution_count": 6,
   "metadata": {},
   "outputs": [
    {
     "data": {
      "text/plain": [
       "Index(['Private', 'Apps', 'Accept', 'Enroll', 'Top10perc', 'Top25perc',\n",
       "       'F.Undergrad', 'P.Undergrad', 'Outstate', 'Room.Board', 'Books',\n",
       "       'Personal', 'PhD', 'Terminal', 'S.F.Ratio', 'perc.alumni', 'Expend',\n",
       "       'Grad.Rate'],\n",
       "      dtype='object')"
      ]
     },
     "execution_count": 6,
     "metadata": {},
     "output_type": "execute_result"
    }
   ],
   "source": [
    "college.columns"
   ]
  },
  {
   "cell_type": "code",
   "execution_count": 11,
   "metadata": {},
   "outputs": [],
   "source": [
    "x=college[['Apps', 'Accept', 'Enroll','F.Undergrad', 'P.Undergrad', 'Outstate', 'Room.Board', 'Books',\n",
    "    'Personal', 'PhD', 'Terminal', 'S.F.Ratio', 'perc.alumni', 'Expend',\n",
    "       'Grad.Rate']]"
   ]
  },
  {
   "cell_type": "code",
   "execution_count": 12,
   "metadata": {},
   "outputs": [],
   "source": [
    "y=college['Top10perc']"
   ]
  },
  {
   "cell_type": "code",
   "execution_count": 13,
   "metadata": {},
   "outputs": [],
   "source": [
    "from sklearn.model_selection import train_test_split"
   ]
  },
  {
   "cell_type": "code",
   "execution_count": 18,
   "metadata": {},
   "outputs": [],
   "source": [
    "x_train, x_test, y_train, y_test = train_test_split(x, y, test_size=0.3, random_state=42)"
   ]
  },
  {
   "cell_type": "code",
   "execution_count": 20,
   "metadata": {},
   "outputs": [],
   "source": [
    "x_trained=sm.add_constant(x_train)"
   ]
  },
  {
   "cell_type": "code",
   "execution_count": 21,
   "metadata": {},
   "outputs": [],
   "source": [
    "x_tested=sm.add_constant(x_test)"
   ]
  },
  {
   "cell_type": "code",
   "execution_count": 22,
   "metadata": {},
   "outputs": [],
   "source": [
    "model=sm.OLS(y_train,x_trained)"
   ]
  },
  {
   "cell_type": "code",
   "execution_count": 23,
   "metadata": {},
   "outputs": [],
   "source": [
    "results=model.fit()"
   ]
  },
  {
   "cell_type": "code",
   "execution_count": 24,
   "metadata": {},
   "outputs": [
    {
     "data": {
      "text/html": [
       "<table class=\"simpletable\">\n",
       "<caption>OLS Regression Results</caption>\n",
       "<tr>\n",
       "  <th>Dep. Variable:</th>        <td>Top10perc</td>    <th>  R-squared:         </th> <td>   0.624</td> \n",
       "</tr>\n",
       "<tr>\n",
       "  <th>Model:</th>                   <td>OLS</td>       <th>  Adj. R-squared:    </th> <td>   0.613</td> \n",
       "</tr>\n",
       "<tr>\n",
       "  <th>Method:</th>             <td>Least Squares</td>  <th>  F-statistic:       </th> <td>   58.25</td> \n",
       "</tr>\n",
       "<tr>\n",
       "  <th>Date:</th>             <td>Fri, 23 May 2025</td> <th>  Prob (F-statistic):</th> <td>2.01e-101</td>\n",
       "</tr>\n",
       "<tr>\n",
       "  <th>Time:</th>                 <td>16:09:15</td>     <th>  Log-Likelihood:    </th> <td> -2046.7</td> \n",
       "</tr>\n",
       "<tr>\n",
       "  <th>No. Observations:</th>      <td>   543</td>      <th>  AIC:               </th> <td>   4125.</td> \n",
       "</tr>\n",
       "<tr>\n",
       "  <th>Df Residuals:</th>          <td>   527</td>      <th>  BIC:               </th> <td>   4194.</td> \n",
       "</tr>\n",
       "<tr>\n",
       "  <th>Df Model:</th>              <td>    15</td>      <th>                     </th>     <td> </td>    \n",
       "</tr>\n",
       "<tr>\n",
       "  <th>Covariance Type:</th>      <td>nonrobust</td>    <th>                     </th>     <td> </td>    \n",
       "</tr>\n",
       "</table>\n",
       "<table class=\"simpletable\">\n",
       "<tr>\n",
       "       <td></td>          <th>coef</th>     <th>std err</th>      <th>t</th>      <th>P>|t|</th>  <th>[0.025</th>    <th>0.975]</th>  \n",
       "</tr>\n",
       "<tr>\n",
       "  <th>const</th>       <td>  -14.7674</td> <td>    4.610</td> <td>   -3.203</td> <td> 0.001</td> <td>  -23.823</td> <td>   -5.711</td>\n",
       "</tr>\n",
       "<tr>\n",
       "  <th>Apps</th>        <td>    0.0038</td> <td>    0.000</td> <td>    7.901</td> <td> 0.000</td> <td>    0.003</td> <td>    0.005</td>\n",
       "</tr>\n",
       "<tr>\n",
       "  <th>Accept</th>      <td>   -0.0074</td> <td>    0.001</td> <td>   -7.749</td> <td> 0.000</td> <td>   -0.009</td> <td>   -0.005</td>\n",
       "</tr>\n",
       "<tr>\n",
       "  <th>Enroll</th>      <td>    0.0064</td> <td>    0.002</td> <td>    2.771</td> <td> 0.006</td> <td>    0.002</td> <td>    0.011</td>\n",
       "</tr>\n",
       "<tr>\n",
       "  <th>F.Undergrad</th> <td>    0.0004</td> <td>    0.000</td> <td>    0.931</td> <td> 0.352</td> <td>   -0.000</td> <td>    0.001</td>\n",
       "</tr>\n",
       "<tr>\n",
       "  <th>P.Undergrad</th> <td>   -0.0013</td> <td>    0.000</td> <td>   -2.697</td> <td> 0.007</td> <td>   -0.002</td> <td>   -0.000</td>\n",
       "</tr>\n",
       "<tr>\n",
       "  <th>Outstate</th>    <td>    0.0008</td> <td>    0.000</td> <td>    3.624</td> <td> 0.000</td> <td>    0.000</td> <td>    0.001</td>\n",
       "</tr>\n",
       "<tr>\n",
       "  <th>Room.Board</th>  <td>   -0.0012</td> <td>    0.001</td> <td>   -1.933</td> <td> 0.054</td> <td>   -0.002</td> <td>  1.9e-05</td>\n",
       "</tr>\n",
       "<tr>\n",
       "  <th>Books</th>       <td>    0.0062</td> <td>    0.003</td> <td>    2.093</td> <td> 0.037</td> <td>    0.000</td> <td>    0.012</td>\n",
       "</tr>\n",
       "<tr>\n",
       "  <th>Personal</th>    <td>   -0.0005</td> <td>    0.001</td> <td>   -0.614</td> <td> 0.539</td> <td>   -0.002</td> <td>    0.001</td>\n",
       "</tr>\n",
       "<tr>\n",
       "  <th>PhD</th>         <td>    0.2852</td> <td>    0.057</td> <td>    5.018</td> <td> 0.000</td> <td>    0.174</td> <td>    0.397</td>\n",
       "</tr>\n",
       "<tr>\n",
       "  <th>Terminal</th>    <td>   -0.0483</td> <td>    0.062</td> <td>   -0.783</td> <td> 0.434</td> <td>   -0.170</td> <td>    0.073</td>\n",
       "</tr>\n",
       "<tr>\n",
       "  <th>S.F.Ratio</th>   <td>   -0.1824</td> <td>    0.152</td> <td>   -1.203</td> <td> 0.230</td> <td>   -0.480</td> <td>    0.116</td>\n",
       "</tr>\n",
       "<tr>\n",
       "  <th>perc.alumni</th> <td>    0.1521</td> <td>    0.051</td> <td>    2.957</td> <td> 0.003</td> <td>    0.051</td> <td>    0.253</td>\n",
       "</tr>\n",
       "<tr>\n",
       "  <th>Expend</th>      <td>    0.0009</td> <td>    0.000</td> <td>    5.862</td> <td> 0.000</td> <td>    0.001</td> <td>    0.001</td>\n",
       "</tr>\n",
       "<tr>\n",
       "  <th>Grad.Rate</th>   <td>    0.1316</td> <td>    0.035</td> <td>    3.734</td> <td> 0.000</td> <td>    0.062</td> <td>    0.201</td>\n",
       "</tr>\n",
       "</table>\n",
       "<table class=\"simpletable\">\n",
       "<tr>\n",
       "  <th>Omnibus:</th>       <td>85.300</td> <th>  Durbin-Watson:     </th> <td>   1.939</td>\n",
       "</tr>\n",
       "<tr>\n",
       "  <th>Prob(Omnibus):</th> <td> 0.000</td> <th>  Jarque-Bera (JB):  </th> <td> 178.217</td>\n",
       "</tr>\n",
       "<tr>\n",
       "  <th>Skew:</th>          <td> 0.868</td> <th>  Prob(JB):          </th> <td>2.00e-39</td>\n",
       "</tr>\n",
       "<tr>\n",
       "  <th>Kurtosis:</th>      <td> 5.206</td> <th>  Cond. No.          </th> <td>1.71e+05</td>\n",
       "</tr>\n",
       "</table><br/><br/>Notes:<br/>[1] Standard Errors assume that the covariance matrix of the errors is correctly specified.<br/>[2] The condition number is large, 1.71e+05. This might indicate that there are<br/>strong multicollinearity or other numerical problems."
      ],
      "text/latex": [
       "\\begin{center}\n",
       "\\begin{tabular}{lclc}\n",
       "\\toprule\n",
       "\\textbf{Dep. Variable:}    &    Top10perc     & \\textbf{  R-squared:         } &     0.624   \\\\\n",
       "\\textbf{Model:}            &       OLS        & \\textbf{  Adj. R-squared:    } &     0.613   \\\\\n",
       "\\textbf{Method:}           &  Least Squares   & \\textbf{  F-statistic:       } &     58.25   \\\\\n",
       "\\textbf{Date:}             & Fri, 23 May 2025 & \\textbf{  Prob (F-statistic):} & 2.01e-101   \\\\\n",
       "\\textbf{Time:}             &     16:09:15     & \\textbf{  Log-Likelihood:    } &   -2046.7   \\\\\n",
       "\\textbf{No. Observations:} &         543      & \\textbf{  AIC:               } &     4125.   \\\\\n",
       "\\textbf{Df Residuals:}     &         527      & \\textbf{  BIC:               } &     4194.   \\\\\n",
       "\\textbf{Df Model:}         &          15      & \\textbf{                     } &             \\\\\n",
       "\\textbf{Covariance Type:}  &    nonrobust     & \\textbf{                     } &             \\\\\n",
       "\\bottomrule\n",
       "\\end{tabular}\n",
       "\\begin{tabular}{lcccccc}\n",
       "                     & \\textbf{coef} & \\textbf{std err} & \\textbf{t} & \\textbf{P$> |$t$|$} & \\textbf{[0.025} & \\textbf{0.975]}  \\\\\n",
       "\\midrule\n",
       "\\textbf{const}       &     -14.7674  &        4.610     &    -3.203  &         0.001        &      -23.823    &       -5.711     \\\\\n",
       "\\textbf{Apps}        &       0.0038  &        0.000     &     7.901  &         0.000        &        0.003    &        0.005     \\\\\n",
       "\\textbf{Accept}      &      -0.0074  &        0.001     &    -7.749  &         0.000        &       -0.009    &       -0.005     \\\\\n",
       "\\textbf{Enroll}      &       0.0064  &        0.002     &     2.771  &         0.006        &        0.002    &        0.011     \\\\\n",
       "\\textbf{F.Undergrad} &       0.0004  &        0.000     &     0.931  &         0.352        &       -0.000    &        0.001     \\\\\n",
       "\\textbf{P.Undergrad} &      -0.0013  &        0.000     &    -2.697  &         0.007        &       -0.002    &       -0.000     \\\\\n",
       "\\textbf{Outstate}    &       0.0008  &        0.000     &     3.624  &         0.000        &        0.000    &        0.001     \\\\\n",
       "\\textbf{Room.Board}  &      -0.0012  &        0.001     &    -1.933  &         0.054        &       -0.002    &      1.9e-05     \\\\\n",
       "\\textbf{Books}       &       0.0062  &        0.003     &     2.093  &         0.037        &        0.000    &        0.012     \\\\\n",
       "\\textbf{Personal}    &      -0.0005  &        0.001     &    -0.614  &         0.539        &       -0.002    &        0.001     \\\\\n",
       "\\textbf{PhD}         &       0.2852  &        0.057     &     5.018  &         0.000        &        0.174    &        0.397     \\\\\n",
       "\\textbf{Terminal}    &      -0.0483  &        0.062     &    -0.783  &         0.434        &       -0.170    &        0.073     \\\\\n",
       "\\textbf{S.F.Ratio}   &      -0.1824  &        0.152     &    -1.203  &         0.230        &       -0.480    &        0.116     \\\\\n",
       "\\textbf{perc.alumni} &       0.1521  &        0.051     &     2.957  &         0.003        &        0.051    &        0.253     \\\\\n",
       "\\textbf{Expend}      &       0.0009  &        0.000     &     5.862  &         0.000        &        0.001    &        0.001     \\\\\n",
       "\\textbf{Grad.Rate}   &       0.1316  &        0.035     &     3.734  &         0.000        &        0.062    &        0.201     \\\\\n",
       "\\bottomrule\n",
       "\\end{tabular}\n",
       "\\begin{tabular}{lclc}\n",
       "\\textbf{Omnibus:}       & 85.300 & \\textbf{  Durbin-Watson:     } &    1.939  \\\\\n",
       "\\textbf{Prob(Omnibus):} &  0.000 & \\textbf{  Jarque-Bera (JB):  } &  178.217  \\\\\n",
       "\\textbf{Skew:}          &  0.868 & \\textbf{  Prob(JB):          } & 2.00e-39  \\\\\n",
       "\\textbf{Kurtosis:}      &  5.206 & \\textbf{  Cond. No.          } & 1.71e+05  \\\\\n",
       "\\bottomrule\n",
       "\\end{tabular}\n",
       "%\\caption{OLS Regression Results}\n",
       "\\end{center}\n",
       "\n",
       "Notes: \\newline\n",
       " [1] Standard Errors assume that the covariance matrix of the errors is correctly specified. \\newline\n",
       " [2] The condition number is large, 1.71e+05. This might indicate that there are \\newline\n",
       " strong multicollinearity or other numerical problems."
      ],
      "text/plain": [
       "<class 'statsmodels.iolib.summary.Summary'>\n",
       "\"\"\"\n",
       "                            OLS Regression Results                            \n",
       "==============================================================================\n",
       "Dep. Variable:              Top10perc   R-squared:                       0.624\n",
       "Model:                            OLS   Adj. R-squared:                  0.613\n",
       "Method:                 Least Squares   F-statistic:                     58.25\n",
       "Date:                Fri, 23 May 2025   Prob (F-statistic):          2.01e-101\n",
       "Time:                        16:09:15   Log-Likelihood:                -2046.7\n",
       "No. Observations:                 543   AIC:                             4125.\n",
       "Df Residuals:                     527   BIC:                             4194.\n",
       "Df Model:                          15                                         \n",
       "Covariance Type:            nonrobust                                         \n",
       "===============================================================================\n",
       "                  coef    std err          t      P>|t|      [0.025      0.975]\n",
       "-------------------------------------------------------------------------------\n",
       "const         -14.7674      4.610     -3.203      0.001     -23.823      -5.711\n",
       "Apps            0.0038      0.000      7.901      0.000       0.003       0.005\n",
       "Accept         -0.0074      0.001     -7.749      0.000      -0.009      -0.005\n",
       "Enroll          0.0064      0.002      2.771      0.006       0.002       0.011\n",
       "F.Undergrad     0.0004      0.000      0.931      0.352      -0.000       0.001\n",
       "P.Undergrad    -0.0013      0.000     -2.697      0.007      -0.002      -0.000\n",
       "Outstate        0.0008      0.000      3.624      0.000       0.000       0.001\n",
       "Room.Board     -0.0012      0.001     -1.933      0.054      -0.002     1.9e-05\n",
       "Books           0.0062      0.003      2.093      0.037       0.000       0.012\n",
       "Personal       -0.0005      0.001     -0.614      0.539      -0.002       0.001\n",
       "PhD             0.2852      0.057      5.018      0.000       0.174       0.397\n",
       "Terminal       -0.0483      0.062     -0.783      0.434      -0.170       0.073\n",
       "S.F.Ratio      -0.1824      0.152     -1.203      0.230      -0.480       0.116\n",
       "perc.alumni     0.1521      0.051      2.957      0.003       0.051       0.253\n",
       "Expend          0.0009      0.000      5.862      0.000       0.001       0.001\n",
       "Grad.Rate       0.1316      0.035      3.734      0.000       0.062       0.201\n",
       "==============================================================================\n",
       "Omnibus:                       85.300   Durbin-Watson:                   1.939\n",
       "Prob(Omnibus):                  0.000   Jarque-Bera (JB):              178.217\n",
       "Skew:                           0.868   Prob(JB):                     2.00e-39\n",
       "Kurtosis:                       5.206   Cond. No.                     1.71e+05\n",
       "==============================================================================\n",
       "\n",
       "Notes:\n",
       "[1] Standard Errors assume that the covariance matrix of the errors is correctly specified.\n",
       "[2] The condition number is large, 1.71e+05. This might indicate that there are\n",
       "strong multicollinearity or other numerical problems.\n",
       "\"\"\""
      ]
     },
     "execution_count": 24,
     "metadata": {},
     "output_type": "execute_result"
    }
   ],
   "source": [
    "results.summary()"
   ]
  },
  {
   "cell_type": "code",
   "execution_count": 26,
   "metadata": {},
   "outputs": [],
   "source": [
    "y_pred=results.predict(x_tested)"
   ]
  },
  {
   "cell_type": "code",
   "execution_count": 27,
   "metadata": {},
   "outputs": [
    {
     "data": {
      "text/plain": [
       "<seaborn.axisgrid.FacetGrid at 0x21335b57ca0>"
      ]
     },
     "execution_count": 27,
     "metadata": {},
     "output_type": "execute_result"
    },
    {
     "data": {
      "image/png": "[encoded data removed]",
      "text/plain": [
       "<Figure size 500x500 with 1 Axes>"
      ]
     },
     "metadata": {},
     "output_type": "display_data"
    }
   ],
   "source": [
    "sns.displot((y_test-y_pred),bins=50)"
   ]
  },
  {
   "cell_type": "code",
   "execution_count": 47,
   "metadata": {
    "scrolled": true
   },
   "outputs": [
    {
     "data": {
      "text/plain": [
       "<seaborn.axisgrid.JointGrid at 0x21338b70b50>"
      ]
     },
     "execution_count": 47,
     "metadata": {},
     "output_type": "execute_result"
    },
    {
     "data": {
      "image/png": "[encoded data removed]",
      "text/plain": [
       "<Figure size 600x600 with 3 Axes>"
      ]
     },
     "metadata": {},
     "output_type": "display_data"
    }
   ],
   "source": [
    "sns.jointplot(x=y_test,y=y_pred,kind='scatter')"
   ]
  },
  {
   "cell_type": "code",
   "execution_count": 39,
   "metadata": {},
   "outputs": [
    {
     "data": {
      "text/plain": [
       "Text(0.5, 1.0, 'Pred vs Test')"
      ]
     },
     "execution_count": 39,
     "metadata": {},
     "output_type": "execute_result"
    },
    {
     "data": {
      "image/png": "[encoded data removed]",
      "text/plain": [
       "<Figure size 1200x800 with 1 Axes>"
      ]
     },
     "metadata": {},
     "output_type": "display_data"
    }
   ],
   "source": [
    "plt.figure(figsize=(12,8))\n",
    "plt.scatter(y_test,y_pred,color='black',marker='*')\n",
    "plt.plot([y_train.min(),y_train.max()],[y_train.min(),y_train.max()],color='red',linestyle='--')\n",
    "plt.title('Pred vs Test')"
   ]
  },
  {
   "cell_type": "code",
   "execution_count": 40,
   "metadata": {},
   "outputs": [],
   "source": [
    "from sklearn import metrics"
   ]
  },
  {
   "cell_type": "code",
   "execution_count": 43,
   "metadata": {},
   "outputs": [
    {
     "name": "stdout",
     "output_type": "stream",
     "text": [
      "The MAE: 7.9377559079172375\n"
     ]
    }
   ],
   "source": [
    "print('The MAE:',metrics.mean_absolute_error(y_test,y_pred))"
   ]
  },
  {
   "cell_type": "code",
   "execution_count": 45,
   "metadata": {},
   "outputs": [
    {
     "name": "stdout",
     "output_type": "stream",
     "text": [
      "The RMSE: 10.260771736274304\n"
     ]
    }
   ],
   "source": [
    "print('The RMSE:',metrics.root_mean_squared_error(y_test,y_pred))"
   ]
  },
  {
   "cell_type": "code",
   "execution_count": 46,
   "metadata": {},
   "outputs": [
    {
     "data": {
      "text/plain": [
       "568    24.269295\n",
       "530    16.462182\n",
       "610    29.866058\n",
       "109    27.569531\n",
       "586    19.487833\n",
       "dtype: float64"
      ]
     },
     "execution_count": 46,
     "metadata": {},
     "output_type": "execute_result"
    }
   ],
   "source": [
    "y_pred[:5]"
   ]
  },
  {
   "cell_type": "code",
   "execution_count": null,
   "metadata": {},
   "outputs": [],
   "source": []
  }
 ],
 "metadata": {
  "kernelspec": {
   "display_name": "Python (islpenv)",
   "language": "python",
   "name": "islpenv"
  },
  "language_info": {
   "codemirror_mode": {
    "name": "ipython",
    "version": 3
   },
   "file_extension": ".py",
   "mimetype": "text/x-python",
   "name": "python",
   "nbconvert_exporter": "python",
   "pygments_lexer": "ipython3",
   "version": "3.10.16"
  }
 },
 "nbformat": 4,
 "nbformat_minor": 4
}
